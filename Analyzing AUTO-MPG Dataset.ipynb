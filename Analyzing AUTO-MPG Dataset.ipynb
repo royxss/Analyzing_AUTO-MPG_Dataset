{
 "cells": [
  {
   "cell_type": "markdown",
   "metadata": {},
   "source": [
    "Load in the auto mpg data set: https://archive.ics.uci.edu/ml/machine-learning-databases/auto-mpg/auto-mpg.data"
   ]
  },
  {
   "cell_type": "code",
   "execution_count": null,
   "metadata": {
    "collapsed": true
   },
   "outputs": [],
   "source": [
    "auto_mpg <- read.table(\"https://archive.ics.uci.edu/ml/machine-learning-databases/auto-mpg/auto-mpg.data\", header = FALSE)\n",
    "header <- c(\"mpg\",\"cylinders\",\"displacement\",\"horsepower\",\"weight\",\"acceleration\",\"modelYear\",\"origin\",\"carName\")\n",
    "colnames(auto_mpg) <- header"
   ]
  },
  {
   "cell_type": "markdown",
   "metadata": {},
   "source": [
    "Identify all of the categorical variables, all of the numeric variables and all of the binary variables."
   ]
  },
  {
   "cell_type": "code",
   "execution_count": null,
   "metadata": {
    "collapsed": true
   },
   "outputs": [],
   "source": [
    "sapply(auto_mpg,class)\n",
    "CatCols <- names(which(sapply(auto_mpg, is.factor)))   \n",
    "NumCols <- names(which(sapply(auto_mpg, is.numeric)))  \n",
    "LogiCols <- names(which(sapply(auto_mpg, is.logical)))  \n",
    "CharCols <- names(which(sapply(auto_mpg, is.character))) \n",
    "stopifnot(length(CatCols) + length(NumCols) + length(LogiCols) + length(CharCols) == ncol(auto_mpg)) #Verify\n",
    "\n",
    "      # Categorical: 2; Numerical: 7; Logical: 0; Character: 0\n",
    "      # Below are few discrepancies\n",
    "      # Horsepower, carName should not be Factor.\n",
    "      # Need to convert columns but this might also change any invalid values\n",
    "      # As per question 5, horsepower has 6 \"?\" invalid values.\n",
    "      # We reassign this value to 0 as 0 mpg will not make sense to the data and can be easily identified\n",
    "\n",
    "autompg1 <- auto_mpg\n",
    "autompg1$horsepower <- sapply(autompg1$horsepower, function(x) ifelse(x == \"?\", 0, x)) \n",
    "autompg1$horsepower <- as.numeric(autompg1$horsepower)\n",
    "autompg1$carName <- as.character(autompg1$carName)\n",
    "\n",
    "CatCols <- names(which(sapply(autompg1, is.factor)))   \n",
    "NumCols <- names(which(sapply(autompg1, is.numeric)))  \n",
    "LogiCols <- names(which(sapply(autompg1, is.logical)))  \n",
    "CharCols <- names(which(sapply(autompg1, is.character))) \n",
    "stopifnot(length(CatCols) + length(NumCols) + length(LogiCols) + length(CharCols) == ncol(autompg1)) #Verify\n",
    "length(CatCols) ; length(NumCols) ; length(LogiCols) ; length(CharCols);\n",
    "      # After convertion\n",
    "      # Categorical: 0; Numerical: 8; Logical: 0; Character: 1"
   ]
  },
  {
   "cell_type": "markdown",
   "metadata": {},
   "source": [
    "Exploratory Data Analysis"
   ]
  },
  {
   "cell_type": "code",
   "execution_count": null,
   "metadata": {
    "collapsed": true
   },
   "outputs": [],
   "source": [
    "summary(autompg1)\n",
    "          # Min horsepower is 0 which is a reassigned label. It can be ignored.\n",
    "          # cylinder and origin data are skewed\n",
    "relCols <- names(autompg1)[!names(autompg1) %in% c(CharCols,LogiCols)]\n",
    "boxplot(autompg1[,relCols])\n",
    "          # One outlier in mpg; Multiple outliers in acceleration\n",
    "\n",
    "pairs(autompg1[,relCols])\n",
    "corMat <- cor(autompg1[,NumCols])\n",
    "corMatrix <- corMat\n",
    "corMatrix[lower.tri(corMatrix,diag=TRUE)]=NA\n",
    "corMatrix=as.data.frame(as.table(corMatrix))\n",
    "corMatrix=na.omit(corMatrix)\n",
    "corMatrix=corMatrix[order(-abs(corMatrix$Freq)),]\n",
    "corMatrix[1:5,]\n",
    "          # displacement-cylinders, displacement-weight, cylinder-weight have a strong positive relation\n",
    "          # mpg-weight, displacement-mpg have a strong negative relation\n",
    "\n",
    "          ## Var1         Var2       Freq\n",
    "          ## 18    cylinders displacement  0.9507214\n",
    "          ## 35 displacement       weight  0.9328241\n",
    "          ## 34    cylinders       weight  0.8960168\n",
    "          ## 33          mpg       weight -0.8317409\n",
    "          ## 17          mpg displacement -0.8042028\n",
    "\n",
    "hist(autompg1$mpg, xlab = \"mpg\")    \n",
    "hist(autompg1$cylinders, xlab = \"cylinders\")   \n",
    "hist(autompg1$displacement, xlab = \"displacement\")  \n",
    "hist(autompg1$horsepower, xlab = \"horsepower\")\n",
    "hist(autompg1$weight, xlab = \"weight\")\n",
    "hist(autompg1$acceleration, xlab = \"acceleration\") \n",
    "hist(autompg1$modelYear, xlab = \"ModelYear\") \n",
    "\n",
    "          # Ignoring mpgs less than 10 as they probably are invalid fixes.\n",
    "          # Cylinder value 4 has maximum frequency.\n",
    "          # Acceleration distributed normally with mean/med around 15.\n",
    "          # More observations for car model year 70-71"
   ]
  },
  {
   "cell_type": "markdown",
   "metadata": {},
   "source": [
    "Correlation matrix for all of the numeric variables."
   ]
  },
  {
   "cell_type": "code",
   "execution_count": null,
   "metadata": {
    "collapsed": true
   },
   "outputs": [],
   "source": [
    "corrplot(corMat, title = \"Correlation plot for auto mpg\", diag = FALSE)"
   ]
  },
  {
   "cell_type": "markdown",
   "metadata": {},
   "source": [
    "Identify the columns (if any) with missing data."
   ]
  },
  {
   "cell_type": "code",
   "execution_count": null,
   "metadata": {
    "collapsed": true
   },
   "outputs": [],
   "source": [
    "data_issues <- apply(auto_mpg, 2, function(x) length(which(x == \"\" | x == \"?\" | is.na(x) | x == \"NA\" | x == \"999\" | x == \"0\")))\n",
    "data_issues     # data issues resolved into autompg1 \n",
    "                # horsepower has 6 \"?\" invalid values"
   ]
  },
  {
   "cell_type": "markdown",
   "metadata": {},
   "source": [
    "Divide the data into a train/test set (80% and 20% respectively) using stratified sampling"
   ]
  },
  {
   "cell_type": "code",
   "execution_count": null,
   "metadata": {
    "collapsed": true
   },
   "outputs": [],
   "source": [
    "set.seed(18757)\n",
    "library('caret')\n",
    "trainPct <- .8\n",
    "testPct <- 1 - trainPct\n",
    "inTrain <- createDataPartition(y = autompg1$mpg, p = trainPct, list = FALSE)\n",
    "mpgTrain <- autompg1[inTrain,]\n",
    "mpgTest <- autompg1[-inTrain,]\n",
    "stopifnot(nrow(mpgTrain) + nrow(mpgTest) == nrow(autompg1))"
   ]
  },
  {
   "cell_type": "markdown",
   "metadata": {},
   "source": [
    "Fit a linear model to the data using the numeric variables only. Calculate the R^2 on the test set."
   ]
  },
  {
   "cell_type": "code",
   "execution_count": null,
   "metadata": {
    "collapsed": true
   },
   "outputs": [],
   "source": [
    "yVar <- 'mpg'\n",
    "xVars <- NumCols[!NumCols %in% yVar]\n",
    "\n",
    "createModelFormula <- function(yVar, xVars, includeIntercept = TRUE){\n",
    "  if(includeIntercept){\n",
    "    modelForm <- as.formula(paste(yVar, \"~\", paste(xVars, collapse = '+ ')))\n",
    "  } else {\n",
    "    modelForm <- as.formula(paste(yVar, \"~\", paste(xVars, collapse = '+ '), -1))\n",
    "  }\n",
    "  return(modelForm)\n",
    "}\n",
    "\n",
    "modelForm <- createModelFormula(yVar = yVar, xVars = xVars, includeIntercept = FALSE)\n",
    "model <- lm(modelForm, data = mpgTest)\n",
    "summary(model)    \n",
    "        # Adjusted R-squared:  0.979"
   ]
  },
  {
   "cell_type": "markdown",
   "metadata": {},
   "source": [
    "Identify and remove the non-significant variables (alpha = .05). Fit a new model with those variables removed."
   ]
  },
  {
   "cell_type": "code",
   "execution_count": null,
   "metadata": {
    "collapsed": true
   },
   "outputs": [],
   "source": [
    "summary(model)\n",
    "\n",
    "        # from summary(model) cylinder,displacement,horsepower,acceleration,origin \n",
    "        # are satistically insignificant on test data. So, we remove both and try again\n",
    "\n",
    "excl_list <- c('cylinders','displacement','horsepower','acceleration','origin')\n",
    "xVars <- NumCols[!NumCols %in% c(excl_list, yVar)]   # weight, year\n",
    "modelForm <- createModelFormula(yVar = yVar, xVars = xVars, includeIntercept = FALSE)\n",
    "model <- lm(modelForm, data = mpgTest)\n",
    "summary(model)\n",
    "        # The new R**2 after removing those columns are 0.9791\n",
    "        # Very small increase in R**2\n",
    "        # There was none insignificant attributes"
   ]
  },
  {
   "cell_type": "markdown",
   "metadata": {},
   "source": [
    "Attempt to fit a model on all of the relevant independent variables (including carName). Explain why this error occurs. Fix this error."
   ]
  },
  {
   "cell_type": "code",
   "execution_count": null,
   "metadata": {
    "collapsed": true
   },
   "outputs": [],
   "source": [
    "xVars <- names(autompg1)[!names(autompg1) %in% yVar]\n",
    "modelForm <- createModelFormula(yVar = yVar, xVars = xVars, includeIntercept = FALSE)\n",
    "model <- lm(modelForm, data = mpgTest)\n",
    "summary(model)\n",
    "        # Error is due to x-hat is a non-invertible martrix (singular). \n",
    "        # Hence coefficients cannot be computed.\n",
    "        # This is mostly due to carname is not vectorized.\n",
    "\n",
    "excl_list <- c('carName')\n",
    "xVars <- names(autompg1)[!names(autompg1) %in% c(excl_list,yVar)]\n",
    "modelForm <- createModelFormula(yVar = yVar, xVars = xVars, includeIntercept = FALSE)\n",
    "model <- lm(modelForm, data = mpgTest)\n",
    "summary(model)\n",
    "        # Removing carName from xVars resolves the issue\n"
   ]
  },
  {
   "cell_type": "markdown",
   "metadata": {},
   "source": [
    "Determine the relationship between model year and mpg."
   ]
  },
  {
   "cell_type": "code",
   "execution_count": null,
   "metadata": {
    "collapsed": true
   },
   "outputs": [],
   "source": [
    "        # There is a strong effect between model year(Coef 0.5) and mpg.\n",
    "        # We noticed that 70-71 model cars are more observed than other years.\n",
    "        # From scatterplot we observe the mpg increase throughout the years.\n",
    "plot(autompg1$mpg ~ autompg1$modelYear)"
   ]
  },
  {
   "cell_type": "markdown",
   "metadata": {},
   "source": [
    "Build the best linear model possible (as measured by R^2 on the test data)"
   ]
  },
  {
   "cell_type": "code",
   "execution_count": null,
   "metadata": {
    "collapsed": true
   },
   "outputs": [],
   "source": [
    "        # from above, we saw that weight and year\n",
    "        # both are significant. So we can start with these two attributes\n",
    "        # and try all other combinations of it\n",
    "\n",
    "DispModelSummary <- function(incl_list){\n",
    "  xVars <- names(autompg1)[names(autompg1) %in% incl_list]\n",
    "  modelForm <- createModelFormula(yVar = yVar, xVars = xVars, includeIntercept = FALSE)\n",
    "  model <- lm(modelForm, data = mpgTest)\n",
    "  summary(model)\n",
    "}\n",
    "\n",
    "incl_list <- c('weight', 'modelYear', 'horsepower', 'acceleration', 'origin', 'cylinders', 'displacement') \n",
    "DispModelSummary(incl_list)\n",
    "\n",
    "        # 5/7 insignificant attributes. \n",
    "        # High R-square. Using only 2 attributes so model can tend to overfit.\n",
    "        # Multiple R-squared:  0.981,\tAdjusted R-squared:  0.979 \n",
    "        # F-statistic: 514.9 on 7 and 70 DF,  p-value: < 2.2e-16\n",
    "\n",
    "        # Model year and origin does not feel intuitively related to mpg\n",
    "        # trying other combinations with weight\n",
    "\n",
    "incl_list <- c('weight', 'horsepower', 'acceleration', 'cylinders', 'displacement') \n",
    "DispModelSummary(incl_list)\n",
    "        # horsepower and acceleration are statistically significant\n",
    "        # but now weight isn't\n",
    "        # Multiple R-squared:  0.9519,\tAdjusted R-squared:  0.9486 \n",
    "        # F-statistic: 285.2 on 5 and 72 DF,  p-value: < 2.2e-16\n",
    "\n",
    "incl_list <- c('weight', 'horsepower', 'acceleration', 'cylinders') \n",
    "DispModelSummary(incl_list)\n",
    "        # now horsepower, acceleration and weight are significant\n",
    "        # Multiple R-squared:  0.9511,\tAdjusted R-squared:  0.9484 \n",
    "        # F-statistic: 354.6 on 4 and 73 DF,  p-value: < 2.2e-16\n",
    "\n",
    "incl_list <- c('weight', 'horsepower', 'acceleration', 'displacement') \n",
    "DispModelSummary(incl_list)\n",
    "        # horsepower, acceleration are significant. Doesn't improve model\n",
    "        # Multiple R-squared:  0.9508,\tAdjusted R-squared:  0.9481 \n",
    "        # F-statistic: 352.4 on 4 and 73 DF,  p-value: < 2.2e-16\n",
    "\n",
    "incl_list <- c('weight', 'horsepower', 'acceleration') \n",
    "DispModelSummary(incl_list)\n",
    "        # Better model where all three are significant.\n",
    "        # but doesn't imrpove R square\n",
    "        # Multiple R-squared:  0.9506,\tAdjusted R-squared:  0.9486 \n",
    "        # F-statistic: 474.5 on 3 and 74 DF,  p-value: < 2.2e-16\n",
    "\n",
    "        # Adding Year\n",
    "incl_list <- c('weight', 'horsepower', 'acceleration', 'modelYear') \n",
    "DispModelSummary(incl_list)\n",
    "        # Only 2 significant attribute with high R-square. Doesn't improve model.\n",
    "        # Multiple R-squared:  0.9801,\tAdjusted R-squared:  0.979 \n",
    "        # F-statistic: 898.6 on 4 and 73 DF,  p-value: < 2.2e-16\n",
    "\n",
    "        # Adding origin instead of Year\n",
    "incl_list <- c('weight', 'horsepower', 'acceleration', 'origin') \n",
    "DispModelSummary(incl_list)\n",
    "        # Acceptable model.\n",
    "        # All 4 significant attributes. Good R-squared.\n",
    "        # Multiple R-squared:  0.9598,\tAdjusted R-squared:  0.9576 \n",
    "        # F-statistic: 435.4 on 4 and 73 DF,  p-value: < 2.2e-16\n",
    "\n",
    "        # Adding Year and origin\n",
    "incl_list <- c('weight', 'horsepower', 'acceleration', 'modelYear', 'origin') \n",
    "DispModelSummary(incl_list)\n",
    "        # same as above. Not much helpful. Doesn't improve model.\n",
    "        # Multiple R-squared:  0.9803,\tAdjusted R-squared:  0.9789 \n",
    "        # F-statistic: 714.8 on 5 and 72 DF,  p-value: < 2.2e-16\n",
    "\n",
    "## Best Model:\n",
    "\n",
    "        # Best model (second last) is using 'weight', 'horsepower', 'acceleration', 'origin'\n",
    "        # Acceptably high R squared value of 0.9576\n",
    "        # Attribute combination looks intuitively logical when predicting mpg of an auto\n",
    "\n",
    "        # 0.0585219 * horsepower + -0.0026494 * weight + 1.4747125 * accleration + 3.2151618 * origin\n",
    "\n",
    "        # Multiple R-squared:  0.9598,\tAdjusted R-squared:  0.9576 \n",
    "        # F-statistic: 435.4 on 4 and 73 DF,  p-value: < 2.2e-16"
   ]
  }
 ],
 "metadata": {
  "kernelspec": {
   "display_name": "R",
   "language": "R",
   "name": "ir"
  },
  "language_info": {
   "codemirror_mode": "r",
   "file_extension": ".r",
   "mimetype": "text/x-r-source",
   "name": "R",
   "pygments_lexer": "r",
   "version": "3.3.2"
  }
 },
 "nbformat": 4,
 "nbformat_minor": 2
}
